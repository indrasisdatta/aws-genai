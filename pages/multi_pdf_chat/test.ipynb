{
 "cells": [
  {
   "cell_type": "code",
   "execution_count": 7,
   "id": "78523c8d",
   "metadata": {},
   "outputs": [
    {
     "name": "stdout",
     "output_type": "stream",
     "text": [
      "S3 download: s3-thm-demo faiss_index/17decbd4-92e7-4d9d-9736-92841f367d8c/index.faiss -> C:\\Users\\indra\\AppData\\Local\\Temp\\tmplgj3cg1a\\index.faiss\n",
      "S3 download: s3-thm-demo faiss_index/17decbd4-92e7-4d9d-9736-92841f367d8c/index.pkl -> C:\\Users\\indra\\AppData\\Local\\Temp\\tmplgj3cg1a\\index.pkl\n",
      "C:\\Users\\indra\\AppData\\Local\\Temp\\tmplgj3cg1a\n"
     ]
    },
    {
     "name": "stderr",
     "output_type": "stream",
     "text": [
      "d:\\Code\\Python\\aws-genai\\.venv\\Lib\\site-packages\\tqdm\\auto.py:21: TqdmWarning: IProgress not found. Please update jupyter and ipywidgets. See https://ipywidgets.readthedocs.io/en/stable/user_install.html\n",
      "  from .autonotebook import tqdm as notebook_tqdm\n"
     ]
    },
    {
     "name": "stdout",
     "output_type": "stream",
     "text": [
      "<langchain_community.vectorstores.faiss.FAISS object at 0x000001D4FFD5FA90>\n"
     ]
    }
   ],
   "source": [
    "import boto3 \n",
    "from botocore.exceptions import ClientError\n",
    "import os \n",
    "import tempfile\n",
    "from langchain_community.vectorstores import FAISS\n",
    "from langchain_huggingface import HuggingFaceEmbeddings\n",
    "\n",
    "def download_faiss_from_s3(folder):\n",
    "    bucket_name = os.getenv('AWS_S3_UPLOAD_BUCKET')\n",
    "    session = boto3.Session(profile_name=os.getenv('AWS_PROFILE'))\n",
    "    s3 = session.client('s3')\n",
    "    tmp_dir = tempfile.mkdtemp()\n",
    "\n",
    "    for filename in [\"index.faiss\", \"index.pkl\"]:\n",
    "        s3_key = f\"{folder}/{filename}\"\n",
    "        local_path = os.path.join(tmp_dir, filename)\n",
    "        print(\"S3 download:\", bucket_name, s3_key, \"->\", local_path)\n",
    "        s3.download_file(bucket_name, s3_key, local_path)\n",
    "\n",
    "    return os.path.join(folder, tmp_dir)\n",
    "\n",
    "\n",
    "session_id = \"17decbd4-92e7-4d9d-9736-92841f367d8c\"\n",
    "faiss_folder = download_faiss_from_s3(f\"faiss_index/{session_id}\")\n",
    "print(faiss_folder)\n",
    "\n",
    "embeddings = HuggingFaceEmbeddings(model_name=\"all-MiniLM-L6-v2\")\n",
    "vector_store = FAISS.load_local(faiss_folder, embeddings, allow_dangerous_deserialization=True)\n",
    "\n",
    "print(vector_store)\n"
   ]
  },
  {
   "cell_type": "code",
   "execution_count": 16,
   "id": "fa1d3015",
   "metadata": {},
   "outputs": [],
   "source": [
    "import logging\n",
    "import watchtower \n",
    "import boto3 \n",
    "import os \n",
    "\n",
    "logger = logging.getLogger(__name__)\n",
    "logger.setLevel(logging.INFO)\n",
    "\n",
    "session = boto3.Session(profile_name=os.getenv('AWS_PROFILE'), region_name=\"ap-south-1\")\n",
    "client = session.client('logs')\n",
    "\n",
    "cloudwatch_handler = watchtower.CloudWatchLogHandler(\n",
    "    boto3_client=client,\n",
    "    log_group=\"Py-test\",\n",
    "    stream_name=\"test\"\n",
    ")\n",
    "logger.addHandler(cloudwatch_handler)\n",
    "\n",
    "logger.info(\"Test log message\")\n"
   ]
  },
  {
   "cell_type": "code",
   "execution_count": null,
   "id": "a6bea686",
   "metadata": {},
   "outputs": [
    {
     "ename": "NoRegionError",
     "evalue": "You must specify a region.",
     "output_type": "error",
     "traceback": [
      "\u001b[31m---------------------------------------------------------------------------\u001b[39m",
      "\u001b[31mNoRegionError\u001b[39m                             Traceback (most recent call last)",
      "\u001b[36mCell\u001b[39m\u001b[36m \u001b[39m\u001b[32mIn[17]\u001b[39m\u001b[32m, line 12\u001b[39m\n\u001b[32m      2\u001b[39m     cloudwatch = boto3.client(\u001b[33m\"\u001b[39m\u001b[33mcloudwatch\u001b[39m\u001b[33m\"\u001b[39m)\n\u001b[32m      3\u001b[39m     cloudwatch.put_metric_data(\n\u001b[32m      4\u001b[39m         Namespace=\u001b[33m\"\u001b[39m\u001b[33mGenAI\u001b[39m\u001b[33m\"\u001b[39m,\n\u001b[32m      5\u001b[39m         MetricData=[{\n\u001b[32m   (...)\u001b[39m\u001b[32m      9\u001b[39m         }]\n\u001b[32m     10\u001b[39m     )\n\u001b[32m---> \u001b[39m\u001b[32m12\u001b[39m \u001b[43mput_metric\u001b[49m\u001b[43m(\u001b[49m\u001b[33;43m'\u001b[39;49m\u001b[33;43mData entries\u001b[39;49m\u001b[33;43m'\u001b[39;49m\u001b[43m,\u001b[49m\u001b[43m \u001b[49m\u001b[32;43m2\u001b[39;49m\u001b[43m)\u001b[49m\n",
      "\u001b[36mCell\u001b[39m\u001b[36m \u001b[39m\u001b[32mIn[17]\u001b[39m\u001b[32m, line 2\u001b[39m, in \u001b[36mput_metric\u001b[39m\u001b[34m(name, value, unit)\u001b[39m\n\u001b[32m      1\u001b[39m \u001b[38;5;28;01mdef\u001b[39;00m\u001b[38;5;250m \u001b[39m\u001b[34mput_metric\u001b[39m(name, value, unit=\u001b[33m\"\u001b[39m\u001b[33mCount\u001b[39m\u001b[33m\"\u001b[39m):\n\u001b[32m----> \u001b[39m\u001b[32m2\u001b[39m     cloudwatch = \u001b[43mboto3\u001b[49m\u001b[43m.\u001b[49m\u001b[43mclient\u001b[49m\u001b[43m(\u001b[49m\u001b[33;43m\"\u001b[39;49m\u001b[33;43mcloudwatch\u001b[39;49m\u001b[33;43m\"\u001b[39;49m\u001b[43m)\u001b[49m\n\u001b[32m      3\u001b[39m     cloudwatch.put_metric_data(\n\u001b[32m      4\u001b[39m         Namespace=\u001b[33m\"\u001b[39m\u001b[33mGenAI\u001b[39m\u001b[33m\"\u001b[39m,\n\u001b[32m      5\u001b[39m         MetricData=[{\n\u001b[32m   (...)\u001b[39m\u001b[32m      9\u001b[39m         }]\n\u001b[32m     10\u001b[39m     )\n",
      "\u001b[36mFile \u001b[39m\u001b[32md:\\Code\\Python\\aws-genai\\.venv\\Lib\\site-packages\\boto3\\__init__.py:93\u001b[39m, in \u001b[36mclient\u001b[39m\u001b[34m(*args, **kwargs)\u001b[39m\n\u001b[32m     87\u001b[39m \u001b[38;5;28;01mdef\u001b[39;00m\u001b[38;5;250m \u001b[39m\u001b[34mclient\u001b[39m(*args, **kwargs):\n\u001b[32m     88\u001b[39m \u001b[38;5;250m    \u001b[39m\u001b[33;03m\"\"\"\u001b[39;00m\n\u001b[32m     89\u001b[39m \u001b[33;03m    Create a low-level service client by name using the default session.\u001b[39;00m\n\u001b[32m     90\u001b[39m \n\u001b[32m     91\u001b[39m \u001b[33;03m    See :py:meth:`boto3.session.Session.client`.\u001b[39;00m\n\u001b[32m     92\u001b[39m \u001b[33;03m    \"\"\"\u001b[39;00m\n\u001b[32m---> \u001b[39m\u001b[32m93\u001b[39m     \u001b[38;5;28;01mreturn\u001b[39;00m \u001b[43m_get_default_session\u001b[49m\u001b[43m(\u001b[49m\u001b[43m)\u001b[49m\u001b[43m.\u001b[49m\u001b[43mclient\u001b[49m\u001b[43m(\u001b[49m\u001b[43m*\u001b[49m\u001b[43margs\u001b[49m\u001b[43m,\u001b[49m\u001b[43m \u001b[49m\u001b[43m*\u001b[49m\u001b[43m*\u001b[49m\u001b[43mkwargs\u001b[49m\u001b[43m)\u001b[49m\n",
      "\u001b[36mFile \u001b[39m\u001b[32md:\\Code\\Python\\aws-genai\\.venv\\Lib\\site-packages\\boto3\\session.py:337\u001b[39m, in \u001b[36mSession.client\u001b[39m\u001b[34m(self, service_name, region_name, api_version, use_ssl, verify, endpoint_url, aws_access_key_id, aws_secret_access_key, aws_session_token, config, aws_account_id)\u001b[39m\n\u001b[32m    332\u001b[39m \u001b[38;5;28;01mif\u001b[39;00m aws_account_id \u001b[38;5;129;01mis\u001b[39;00m \u001b[38;5;28;01mNone\u001b[39;00m:\n\u001b[32m    333\u001b[39m     \u001b[38;5;66;03m# Remove aws_account_id for arbitrary\u001b[39;00m\n\u001b[32m    334\u001b[39m     \u001b[38;5;66;03m# botocore version mismatches in AWS Lambda.\u001b[39;00m\n\u001b[32m    335\u001b[39m     \u001b[38;5;28;01mdel\u001b[39;00m create_client_kwargs[\u001b[33m'\u001b[39m\u001b[33maws_account_id\u001b[39m\u001b[33m'\u001b[39m]\n\u001b[32m--> \u001b[39m\u001b[32m337\u001b[39m \u001b[38;5;28;01mreturn\u001b[39;00m \u001b[38;5;28;43mself\u001b[39;49m\u001b[43m.\u001b[49m\u001b[43m_session\u001b[49m\u001b[43m.\u001b[49m\u001b[43mcreate_client\u001b[49m\u001b[43m(\u001b[49m\n\u001b[32m    338\u001b[39m \u001b[43m    \u001b[49m\u001b[43mservice_name\u001b[49m\u001b[43m,\u001b[49m\u001b[43m \u001b[49m\u001b[43m*\u001b[49m\u001b[43m*\u001b[49m\u001b[43mcreate_client_kwargs\u001b[49m\n\u001b[32m    339\u001b[39m \u001b[43m\u001b[49m\u001b[43m)\u001b[49m\n",
      "\u001b[36mFile \u001b[39m\u001b[32md:\\Code\\Python\\aws-genai\\.venv\\Lib\\site-packages\\botocore\\context.py:123\u001b[39m, in \u001b[36mwith_current_context.<locals>.decorator.<locals>.wrapper\u001b[39m\u001b[34m(*args, **kwargs)\u001b[39m\n\u001b[32m    121\u001b[39m \u001b[38;5;28;01mif\u001b[39;00m hook:\n\u001b[32m    122\u001b[39m     hook()\n\u001b[32m--> \u001b[39m\u001b[32m123\u001b[39m \u001b[38;5;28;01mreturn\u001b[39;00m \u001b[43mfunc\u001b[49m\u001b[43m(\u001b[49m\u001b[43m*\u001b[49m\u001b[43margs\u001b[49m\u001b[43m,\u001b[49m\u001b[43m \u001b[49m\u001b[43m*\u001b[49m\u001b[43m*\u001b[49m\u001b[43mkwargs\u001b[49m\u001b[43m)\u001b[49m\n",
      "\u001b[36mFile \u001b[39m\u001b[32md:\\Code\\Python\\aws-genai\\.venv\\Lib\\site-packages\\botocore\\session.py:1029\u001b[39m, in \u001b[36mSession.create_client\u001b[39m\u001b[34m(self, service_name, region_name, api_version, use_ssl, verify, endpoint_url, aws_access_key_id, aws_secret_access_key, aws_session_token, config, aws_account_id)\u001b[39m\n\u001b[32m   1014\u001b[39m user_agent_creator.set_client_features(get_context().features)\n\u001b[32m   1016\u001b[39m client_creator = botocore.client.ClientCreator(\n\u001b[32m   1017\u001b[39m     loader,\n\u001b[32m   1018\u001b[39m     endpoint_resolver,\n\u001b[32m   (...)\u001b[39m\u001b[32m   1027\u001b[39m     auth_token_resolver=\u001b[38;5;28mself\u001b[39m.get_auth_token,\n\u001b[32m   1028\u001b[39m )\n\u001b[32m-> \u001b[39m\u001b[32m1029\u001b[39m client = \u001b[43mclient_creator\u001b[49m\u001b[43m.\u001b[49m\u001b[43mcreate_client\u001b[49m\u001b[43m(\u001b[49m\n\u001b[32m   1030\u001b[39m \u001b[43m    \u001b[49m\u001b[43mservice_name\u001b[49m\u001b[43m=\u001b[49m\u001b[43mservice_name\u001b[49m\u001b[43m,\u001b[49m\n\u001b[32m   1031\u001b[39m \u001b[43m    \u001b[49m\u001b[43mregion_name\u001b[49m\u001b[43m=\u001b[49m\u001b[43mregion_name\u001b[49m\u001b[43m,\u001b[49m\n\u001b[32m   1032\u001b[39m \u001b[43m    \u001b[49m\u001b[43mis_secure\u001b[49m\u001b[43m=\u001b[49m\u001b[43muse_ssl\u001b[49m\u001b[43m,\u001b[49m\n\u001b[32m   1033\u001b[39m \u001b[43m    \u001b[49m\u001b[43mendpoint_url\u001b[49m\u001b[43m=\u001b[49m\u001b[43mendpoint_url\u001b[49m\u001b[43m,\u001b[49m\n\u001b[32m   1034\u001b[39m \u001b[43m    \u001b[49m\u001b[43mverify\u001b[49m\u001b[43m=\u001b[49m\u001b[43mverify\u001b[49m\u001b[43m,\u001b[49m\n\u001b[32m   1035\u001b[39m \u001b[43m    \u001b[49m\u001b[43mcredentials\u001b[49m\u001b[43m=\u001b[49m\u001b[43mcredentials\u001b[49m\u001b[43m,\u001b[49m\n\u001b[32m   1036\u001b[39m \u001b[43m    \u001b[49m\u001b[43mscoped_config\u001b[49m\u001b[43m=\u001b[49m\u001b[38;5;28;43mself\u001b[39;49m\u001b[43m.\u001b[49m\u001b[43mget_scoped_config\u001b[49m\u001b[43m(\u001b[49m\u001b[43m)\u001b[49m\u001b[43m,\u001b[49m\n\u001b[32m   1037\u001b[39m \u001b[43m    \u001b[49m\u001b[43mclient_config\u001b[49m\u001b[43m=\u001b[49m\u001b[43mconfig\u001b[49m\u001b[43m,\u001b[49m\n\u001b[32m   1038\u001b[39m \u001b[43m    \u001b[49m\u001b[43mapi_version\u001b[49m\u001b[43m=\u001b[49m\u001b[43mapi_version\u001b[49m\u001b[43m,\u001b[49m\n\u001b[32m   1039\u001b[39m \u001b[43m    \u001b[49m\u001b[43mauth_token\u001b[49m\u001b[43m=\u001b[49m\u001b[43mauth_token\u001b[49m\u001b[43m,\u001b[49m\n\u001b[32m   1040\u001b[39m \u001b[43m\u001b[49m\u001b[43m)\u001b[49m\n\u001b[32m   1041\u001b[39m monitor = \u001b[38;5;28mself\u001b[39m._get_internal_component(\u001b[33m'\u001b[39m\u001b[33mmonitor\u001b[39m\u001b[33m'\u001b[39m)\n\u001b[32m   1042\u001b[39m \u001b[38;5;28;01mif\u001b[39;00m monitor \u001b[38;5;129;01mis\u001b[39;00m \u001b[38;5;129;01mnot\u001b[39;00m \u001b[38;5;28;01mNone\u001b[39;00m:\n",
      "\u001b[36mFile \u001b[39m\u001b[32md:\\Code\\Python\\aws-genai\\.venv\\Lib\\site-packages\\botocore\\client.py:157\u001b[39m, in \u001b[36mClientCreator.create_client\u001b[39m\u001b[34m(self, service_name, region_name, is_secure, endpoint_url, verify, credentials, scoped_config, api_version, client_config, auth_token)\u001b[39m\n\u001b[32m    153\u001b[39m \u001b[38;5;28;01mif\u001b[39;00m token := \u001b[38;5;28mself\u001b[39m._evaluate_client_specific_token(\n\u001b[32m    154\u001b[39m     service_model.signing_name\n\u001b[32m    155\u001b[39m ):\n\u001b[32m    156\u001b[39m     auth_token = token\n\u001b[32m--> \u001b[39m\u001b[32m157\u001b[39m client_args = \u001b[38;5;28;43mself\u001b[39;49m\u001b[43m.\u001b[49m\u001b[43m_get_client_args\u001b[49m\u001b[43m(\u001b[49m\n\u001b[32m    158\u001b[39m \u001b[43m    \u001b[49m\u001b[43mservice_model\u001b[49m\u001b[43m,\u001b[49m\n\u001b[32m    159\u001b[39m \u001b[43m    \u001b[49m\u001b[43mregion_name\u001b[49m\u001b[43m,\u001b[49m\n\u001b[32m    160\u001b[39m \u001b[43m    \u001b[49m\u001b[43mis_secure\u001b[49m\u001b[43m,\u001b[49m\n\u001b[32m    161\u001b[39m \u001b[43m    \u001b[49m\u001b[43mendpoint_url\u001b[49m\u001b[43m,\u001b[49m\n\u001b[32m    162\u001b[39m \u001b[43m    \u001b[49m\u001b[43mverify\u001b[49m\u001b[43m,\u001b[49m\n\u001b[32m    163\u001b[39m \u001b[43m    \u001b[49m\u001b[43mcredentials\u001b[49m\u001b[43m,\u001b[49m\n\u001b[32m    164\u001b[39m \u001b[43m    \u001b[49m\u001b[43mscoped_config\u001b[49m\u001b[43m,\u001b[49m\n\u001b[32m    165\u001b[39m \u001b[43m    \u001b[49m\u001b[43mclient_config\u001b[49m\u001b[43m,\u001b[49m\n\u001b[32m    166\u001b[39m \u001b[43m    \u001b[49m\u001b[43mendpoint_bridge\u001b[49m\u001b[43m,\u001b[49m\n\u001b[32m    167\u001b[39m \u001b[43m    \u001b[49m\u001b[43mauth_token\u001b[49m\u001b[43m,\u001b[49m\n\u001b[32m    168\u001b[39m \u001b[43m    \u001b[49m\u001b[43mendpoints_ruleset_data\u001b[49m\u001b[43m,\u001b[49m\n\u001b[32m    169\u001b[39m \u001b[43m    \u001b[49m\u001b[43mpartition_data\u001b[49m\u001b[43m,\u001b[49m\n\u001b[32m    170\u001b[39m \u001b[43m\u001b[49m\u001b[43m)\u001b[49m\n\u001b[32m    171\u001b[39m service_client = \u001b[38;5;28mcls\u001b[39m(**client_args)\n\u001b[32m    172\u001b[39m \u001b[38;5;28mself\u001b[39m._register_retries(service_client)\n",
      "\u001b[36mFile \u001b[39m\u001b[32md:\\Code\\Python\\aws-genai\\.venv\\Lib\\site-packages\\botocore\\client.py:557\u001b[39m, in \u001b[36mClientCreator._get_client_args\u001b[39m\u001b[34m(self, service_model, region_name, is_secure, endpoint_url, verify, credentials, scoped_config, client_config, endpoint_bridge, auth_token, endpoints_ruleset_data, partition_data)\u001b[39m\n\u001b[32m    533\u001b[39m \u001b[38;5;28;01mdef\u001b[39;00m\u001b[38;5;250m \u001b[39m\u001b[34m_get_client_args\u001b[39m(\n\u001b[32m    534\u001b[39m     \u001b[38;5;28mself\u001b[39m,\n\u001b[32m    535\u001b[39m     service_model,\n\u001b[32m   (...)\u001b[39m\u001b[32m    546\u001b[39m     partition_data,\n\u001b[32m    547\u001b[39m ):\n\u001b[32m    548\u001b[39m     args_creator = ClientArgsCreator(\n\u001b[32m    549\u001b[39m         \u001b[38;5;28mself\u001b[39m._event_emitter,\n\u001b[32m    550\u001b[39m         \u001b[38;5;28mself\u001b[39m._user_agent,\n\u001b[32m   (...)\u001b[39m\u001b[32m    555\u001b[39m         user_agent_creator=\u001b[38;5;28mself\u001b[39m._user_agent_creator,\n\u001b[32m    556\u001b[39m     )\n\u001b[32m--> \u001b[39m\u001b[32m557\u001b[39m     \u001b[38;5;28;01mreturn\u001b[39;00m \u001b[43margs_creator\u001b[49m\u001b[43m.\u001b[49m\u001b[43mget_client_args\u001b[49m\u001b[43m(\u001b[49m\n\u001b[32m    558\u001b[39m \u001b[43m        \u001b[49m\u001b[43mservice_model\u001b[49m\u001b[43m,\u001b[49m\n\u001b[32m    559\u001b[39m \u001b[43m        \u001b[49m\u001b[43mregion_name\u001b[49m\u001b[43m,\u001b[49m\n\u001b[32m    560\u001b[39m \u001b[43m        \u001b[49m\u001b[43mis_secure\u001b[49m\u001b[43m,\u001b[49m\n\u001b[32m    561\u001b[39m \u001b[43m        \u001b[49m\u001b[43mendpoint_url\u001b[49m\u001b[43m,\u001b[49m\n\u001b[32m    562\u001b[39m \u001b[43m        \u001b[49m\u001b[43mverify\u001b[49m\u001b[43m,\u001b[49m\n\u001b[32m    563\u001b[39m \u001b[43m        \u001b[49m\u001b[43mcredentials\u001b[49m\u001b[43m,\u001b[49m\n\u001b[32m    564\u001b[39m \u001b[43m        \u001b[49m\u001b[43mscoped_config\u001b[49m\u001b[43m,\u001b[49m\n\u001b[32m    565\u001b[39m \u001b[43m        \u001b[49m\u001b[43mclient_config\u001b[49m\u001b[43m,\u001b[49m\n\u001b[32m    566\u001b[39m \u001b[43m        \u001b[49m\u001b[43mendpoint_bridge\u001b[49m\u001b[43m,\u001b[49m\n\u001b[32m    567\u001b[39m \u001b[43m        \u001b[49m\u001b[43mauth_token\u001b[49m\u001b[43m,\u001b[49m\n\u001b[32m    568\u001b[39m \u001b[43m        \u001b[49m\u001b[43mendpoints_ruleset_data\u001b[49m\u001b[43m,\u001b[49m\n\u001b[32m    569\u001b[39m \u001b[43m        \u001b[49m\u001b[43mpartition_data\u001b[49m\u001b[43m,\u001b[49m\n\u001b[32m    570\u001b[39m \u001b[43m    \u001b[49m\u001b[43m)\u001b[49m\n",
      "\u001b[36mFile \u001b[39m\u001b[32md:\\Code\\Python\\aws-genai\\.venv\\Lib\\site-packages\\botocore\\args.py:121\u001b[39m, in \u001b[36mClientArgsCreator.get_client_args\u001b[39m\u001b[34m(self, service_model, region_name, is_secure, endpoint_url, verify, credentials, scoped_config, client_config, endpoint_bridge, auth_token, endpoints_ruleset_data, partition_data)\u001b[39m\n\u001b[32m    106\u001b[39m \u001b[38;5;28;01mdef\u001b[39;00m\u001b[38;5;250m \u001b[39m\u001b[34mget_client_args\u001b[39m(\n\u001b[32m    107\u001b[39m     \u001b[38;5;28mself\u001b[39m,\n\u001b[32m    108\u001b[39m     service_model,\n\u001b[32m   (...)\u001b[39m\u001b[32m    119\u001b[39m     partition_data=\u001b[38;5;28;01mNone\u001b[39;00m,\n\u001b[32m    120\u001b[39m ):\n\u001b[32m--> \u001b[39m\u001b[32m121\u001b[39m     final_args = \u001b[38;5;28;43mself\u001b[39;49m\u001b[43m.\u001b[49m\u001b[43mcompute_client_args\u001b[49m\u001b[43m(\u001b[49m\n\u001b[32m    122\u001b[39m \u001b[43m        \u001b[49m\u001b[43mservice_model\u001b[49m\u001b[43m,\u001b[49m\n\u001b[32m    123\u001b[39m \u001b[43m        \u001b[49m\u001b[43mclient_config\u001b[49m\u001b[43m,\u001b[49m\n\u001b[32m    124\u001b[39m \u001b[43m        \u001b[49m\u001b[43mendpoint_bridge\u001b[49m\u001b[43m,\u001b[49m\n\u001b[32m    125\u001b[39m \u001b[43m        \u001b[49m\u001b[43mregion_name\u001b[49m\u001b[43m,\u001b[49m\n\u001b[32m    126\u001b[39m \u001b[43m        \u001b[49m\u001b[43mendpoint_url\u001b[49m\u001b[43m,\u001b[49m\n\u001b[32m    127\u001b[39m \u001b[43m        \u001b[49m\u001b[43mis_secure\u001b[49m\u001b[43m,\u001b[49m\n\u001b[32m    128\u001b[39m \u001b[43m        \u001b[49m\u001b[43mscoped_config\u001b[49m\u001b[43m,\u001b[49m\n\u001b[32m    129\u001b[39m \u001b[43m    \u001b[49m\u001b[43m)\u001b[49m\n\u001b[32m    131\u001b[39m     service_name = final_args[\u001b[33m'\u001b[39m\u001b[33mservice_name\u001b[39m\u001b[33m'\u001b[39m]  \u001b[38;5;66;03m# noqa\u001b[39;00m\n\u001b[32m    132\u001b[39m     parameter_validation = final_args[\u001b[33m'\u001b[39m\u001b[33mparameter_validation\u001b[39m\u001b[33m'\u001b[39m]\n",
      "\u001b[36mFile \u001b[39m\u001b[32md:\\Code\\Python\\aws-genai\\.venv\\Lib\\site-packages\\botocore\\args.py:245\u001b[39m, in \u001b[36mClientArgsCreator.compute_client_args\u001b[39m\u001b[34m(self, service_model, client_config, endpoint_bridge, region_name, endpoint_url, is_secure, scoped_config)\u001b[39m\n\u001b[32m    242\u001b[39m \u001b[38;5;28;01mif\u001b[39;00m configured_endpoint_url \u001b[38;5;129;01mis\u001b[39;00m \u001b[38;5;129;01mnot\u001b[39;00m \u001b[38;5;28;01mNone\u001b[39;00m:\n\u001b[32m    243\u001b[39m     register_feature_id(\u001b[33m'\u001b[39m\u001b[33mENDPOINT_OVERRIDE\u001b[39m\u001b[33m'\u001b[39m)\n\u001b[32m--> \u001b[39m\u001b[32m245\u001b[39m endpoint_config = \u001b[38;5;28;43mself\u001b[39;49m\u001b[43m.\u001b[49m\u001b[43m_compute_endpoint_config\u001b[49m\u001b[43m(\u001b[49m\n\u001b[32m    246\u001b[39m \u001b[43m    \u001b[49m\u001b[43mservice_name\u001b[49m\u001b[43m=\u001b[49m\u001b[43mservice_name\u001b[49m\u001b[43m,\u001b[49m\n\u001b[32m    247\u001b[39m \u001b[43m    \u001b[49m\u001b[43mregion_name\u001b[49m\u001b[43m=\u001b[49m\u001b[43mregion_name\u001b[49m\u001b[43m,\u001b[49m\n\u001b[32m    248\u001b[39m \u001b[43m    \u001b[49m\u001b[43mendpoint_url\u001b[49m\u001b[43m=\u001b[49m\u001b[43mconfigured_endpoint_url\u001b[49m\u001b[43m,\u001b[49m\n\u001b[32m    249\u001b[39m \u001b[43m    \u001b[49m\u001b[43mis_secure\u001b[49m\u001b[43m=\u001b[49m\u001b[43mis_secure\u001b[49m\u001b[43m,\u001b[49m\n\u001b[32m    250\u001b[39m \u001b[43m    \u001b[49m\u001b[43mendpoint_bridge\u001b[49m\u001b[43m=\u001b[49m\u001b[43mendpoint_bridge\u001b[49m\u001b[43m,\u001b[49m\n\u001b[32m    251\u001b[39m \u001b[43m    \u001b[49m\u001b[43ms3_config\u001b[49m\u001b[43m=\u001b[49m\u001b[43ms3_config\u001b[49m\u001b[43m,\u001b[49m\n\u001b[32m    252\u001b[39m \u001b[43m\u001b[49m\u001b[43m)\u001b[49m\n\u001b[32m    253\u001b[39m endpoint_variant_tags = endpoint_config[\u001b[33m'\u001b[39m\u001b[33mmetadata\u001b[39m\u001b[33m'\u001b[39m].get(\u001b[33m'\u001b[39m\u001b[33mtags\u001b[39m\u001b[33m'\u001b[39m, [])\n\u001b[32m    255\u001b[39m \u001b[38;5;66;03m# Some third-party libraries expect the final user-agent string in\u001b[39;00m\n\u001b[32m    256\u001b[39m \u001b[38;5;66;03m# ``client.meta.config.user_agent``. To maintain backwards\u001b[39;00m\n\u001b[32m    257\u001b[39m \u001b[38;5;66;03m# compatibility, the preliminary user-agent string (before any Config\u001b[39;00m\n\u001b[32m    258\u001b[39m \u001b[38;5;66;03m# object modifications and without request-specific user-agent\u001b[39;00m\n\u001b[32m    259\u001b[39m \u001b[38;5;66;03m# components) is stored in the new Config object's ``user_agent``\u001b[39;00m\n\u001b[32m    260\u001b[39m \u001b[38;5;66;03m# property but not used by Botocore itself.\u001b[39;00m\n",
      "\u001b[36mFile \u001b[39m\u001b[32md:\\Code\\Python\\aws-genai\\.venv\\Lib\\site-packages\\botocore\\args.py:433\u001b[39m, in \u001b[36mClientArgsCreator._compute_endpoint_config\u001b[39m\u001b[34m(self, service_name, region_name, endpoint_url, is_secure, endpoint_bridge, s3_config)\u001b[39m\n\u001b[32m    431\u001b[39m \u001b[38;5;28;01mif\u001b[39;00m service_name == \u001b[33m'\u001b[39m\u001b[33msts\u001b[39m\u001b[33m'\u001b[39m:\n\u001b[32m    432\u001b[39m     \u001b[38;5;28;01mreturn\u001b[39;00m \u001b[38;5;28mself\u001b[39m._compute_sts_endpoint_config(**resolve_endpoint_kwargs)\n\u001b[32m--> \u001b[39m\u001b[32m433\u001b[39m \u001b[38;5;28;01mreturn\u001b[39;00m \u001b[38;5;28;43mself\u001b[39;49m\u001b[43m.\u001b[49m\u001b[43m_resolve_endpoint\u001b[49m\u001b[43m(\u001b[49m\u001b[43m*\u001b[49m\u001b[43m*\u001b[49m\u001b[43mresolve_endpoint_kwargs\u001b[49m\u001b[43m)\u001b[49m\n",
      "\u001b[36mFile \u001b[39m\u001b[32md:\\Code\\Python\\aws-genai\\.venv\\Lib\\site-packages\\botocore\\args.py:538\u001b[39m, in \u001b[36mClientArgsCreator._resolve_endpoint\u001b[39m\u001b[34m(self, service_name, region_name, endpoint_url, is_secure, endpoint_bridge)\u001b[39m\n\u001b[32m    530\u001b[39m \u001b[38;5;28;01mdef\u001b[39;00m\u001b[38;5;250m \u001b[39m\u001b[34m_resolve_endpoint\u001b[39m(\n\u001b[32m    531\u001b[39m     \u001b[38;5;28mself\u001b[39m,\n\u001b[32m    532\u001b[39m     service_name,\n\u001b[32m   (...)\u001b[39m\u001b[32m    536\u001b[39m     endpoint_bridge,\n\u001b[32m    537\u001b[39m ):\n\u001b[32m--> \u001b[39m\u001b[32m538\u001b[39m     \u001b[38;5;28;01mreturn\u001b[39;00m \u001b[43mendpoint_bridge\u001b[49m\u001b[43m.\u001b[49m\u001b[43mresolve\u001b[49m\u001b[43m(\u001b[49m\n\u001b[32m    539\u001b[39m \u001b[43m        \u001b[49m\u001b[43mservice_name\u001b[49m\u001b[43m,\u001b[49m\u001b[43m \u001b[49m\u001b[43mregion_name\u001b[49m\u001b[43m,\u001b[49m\u001b[43m \u001b[49m\u001b[43mendpoint_url\u001b[49m\u001b[43m,\u001b[49m\u001b[43m \u001b[49m\u001b[43mis_secure\u001b[49m\n\u001b[32m    540\u001b[39m \u001b[43m    \u001b[49m\u001b[43m)\u001b[49m\n",
      "\u001b[36mFile \u001b[39m\u001b[32md:\\Code\\Python\\aws-genai\\.venv\\Lib\\site-packages\\botocore\\client.py:671\u001b[39m, in \u001b[36mClientEndpointBridge.resolve\u001b[39m\u001b[34m(self, service_name, region_name, endpoint_url, is_secure)\u001b[39m\n\u001b[32m    665\u001b[39m use_dualstack_endpoint = \u001b[38;5;28mself\u001b[39m._resolve_use_dualstack_endpoint(\n\u001b[32m    666\u001b[39m     service_name\n\u001b[32m    667\u001b[39m )\n\u001b[32m    668\u001b[39m use_fips_endpoint = \u001b[38;5;28mself\u001b[39m._resolve_endpoint_variant_config_var(\n\u001b[32m    669\u001b[39m     \u001b[33m'\u001b[39m\u001b[33muse_fips_endpoint\u001b[39m\u001b[33m'\u001b[39m\n\u001b[32m    670\u001b[39m )\n\u001b[32m--> \u001b[39m\u001b[32m671\u001b[39m resolved = \u001b[38;5;28;43mself\u001b[39;49m\u001b[43m.\u001b[49m\u001b[43mendpoint_resolver\u001b[49m\u001b[43m.\u001b[49m\u001b[43mconstruct_endpoint\u001b[49m\u001b[43m(\u001b[49m\n\u001b[32m    672\u001b[39m \u001b[43m    \u001b[49m\u001b[43mservice_name\u001b[49m\u001b[43m,\u001b[49m\n\u001b[32m    673\u001b[39m \u001b[43m    \u001b[49m\u001b[43mregion_name\u001b[49m\u001b[43m,\u001b[49m\n\u001b[32m    674\u001b[39m \u001b[43m    \u001b[49m\u001b[43muse_dualstack_endpoint\u001b[49m\u001b[43m=\u001b[49m\u001b[43muse_dualstack_endpoint\u001b[49m\u001b[43m,\u001b[49m\n\u001b[32m    675\u001b[39m \u001b[43m    \u001b[49m\u001b[43muse_fips_endpoint\u001b[49m\u001b[43m=\u001b[49m\u001b[43muse_fips_endpoint\u001b[49m\u001b[43m,\u001b[49m\n\u001b[32m    676\u001b[39m \u001b[43m\u001b[49m\u001b[43m)\u001b[49m\n\u001b[32m    678\u001b[39m \u001b[38;5;66;03m# If we can't resolve the region, we'll attempt to get a global\u001b[39;00m\n\u001b[32m    679\u001b[39m \u001b[38;5;66;03m# endpoint for non-regionalized services (iam, route53, etc)\u001b[39;00m\n\u001b[32m    680\u001b[39m \u001b[38;5;28;01mif\u001b[39;00m \u001b[38;5;129;01mnot\u001b[39;00m resolved:\n\u001b[32m    681\u001b[39m     \u001b[38;5;66;03m# TODO: fallback partition_name should be configurable in the\u001b[39;00m\n\u001b[32m    682\u001b[39m     \u001b[38;5;66;03m# future for users to define as needed.\u001b[39;00m\n",
      "\u001b[36mFile \u001b[39m\u001b[32md:\\Code\\Python\\aws-genai\\.venv\\Lib\\site-packages\\botocore\\regions.py:233\u001b[39m, in \u001b[36mEndpointResolver.construct_endpoint\u001b[39m\u001b[34m(self, service_name, region_name, partition_name, use_dualstack_endpoint, use_fips_endpoint)\u001b[39m\n\u001b[32m    228\u001b[39m \u001b[38;5;28;01mif\u001b[39;00m use_dualstack_endpoint \u001b[38;5;129;01mand\u001b[39;00m (\n\u001b[32m    229\u001b[39m     partition[\u001b[33m'\u001b[39m\u001b[33mpartition\u001b[39m\u001b[33m'\u001b[39m]\n\u001b[32m    230\u001b[39m     \u001b[38;5;129;01min\u001b[39;00m \u001b[38;5;28mself\u001b[39m._UNSUPPORTED_DUALSTACK_PARTITIONS\n\u001b[32m    231\u001b[39m ):\n\u001b[32m    232\u001b[39m     \u001b[38;5;28;01mcontinue\u001b[39;00m\n\u001b[32m--> \u001b[39m\u001b[32m233\u001b[39m result = \u001b[38;5;28;43mself\u001b[39;49m\u001b[43m.\u001b[49m\u001b[43m_endpoint_for_partition\u001b[49m\u001b[43m(\u001b[49m\n\u001b[32m    234\u001b[39m \u001b[43m    \u001b[49m\u001b[43mpartition\u001b[49m\u001b[43m,\u001b[49m\n\u001b[32m    235\u001b[39m \u001b[43m    \u001b[49m\u001b[43mservice_name\u001b[49m\u001b[43m,\u001b[49m\n\u001b[32m    236\u001b[39m \u001b[43m    \u001b[49m\u001b[43mregion_name\u001b[49m\u001b[43m,\u001b[49m\n\u001b[32m    237\u001b[39m \u001b[43m    \u001b[49m\u001b[43muse_dualstack_endpoint\u001b[49m\u001b[43m,\u001b[49m\n\u001b[32m    238\u001b[39m \u001b[43m    \u001b[49m\u001b[43muse_fips_endpoint\u001b[49m\u001b[43m,\u001b[49m\n\u001b[32m    239\u001b[39m \u001b[43m\u001b[49m\u001b[43m)\u001b[49m\n\u001b[32m    240\u001b[39m \u001b[38;5;28;01mif\u001b[39;00m result:\n\u001b[32m    241\u001b[39m     \u001b[38;5;28;01mreturn\u001b[39;00m result\n",
      "\u001b[36mFile \u001b[39m\u001b[32md:\\Code\\Python\\aws-genai\\.venv\\Lib\\site-packages\\botocore\\regions.py:281\u001b[39m, in \u001b[36mEndpointResolver._endpoint_for_partition\u001b[39m\u001b[34m(self, partition, service_name, region_name, use_dualstack_endpoint, use_fips_endpoint, force_partition)\u001b[39m\n\u001b[32m    279\u001b[39m         region_name = service_data[\u001b[33m'\u001b[39m\u001b[33mpartitionEndpoint\u001b[39m\u001b[33m'\u001b[39m]\n\u001b[32m    280\u001b[39m     \u001b[38;5;28;01melse\u001b[39;00m:\n\u001b[32m--> \u001b[39m\u001b[32m281\u001b[39m         \u001b[38;5;28;01mraise\u001b[39;00m NoRegionError()\n\u001b[32m    283\u001b[39m resolve_kwargs = {\n\u001b[32m    284\u001b[39m     \u001b[33m'\u001b[39m\u001b[33mpartition\u001b[39m\u001b[33m'\u001b[39m: partition,\n\u001b[32m    285\u001b[39m     \u001b[33m'\u001b[39m\u001b[33mservice_name\u001b[39m\u001b[33m'\u001b[39m: service_name,\n\u001b[32m   (...)\u001b[39m\u001b[32m    289\u001b[39m     \u001b[33m'\u001b[39m\u001b[33muse_fips_endpoint\u001b[39m\u001b[33m'\u001b[39m: use_fips_endpoint,\n\u001b[32m    290\u001b[39m }\n\u001b[32m    292\u001b[39m \u001b[38;5;66;03m# Attempt to resolve the exact region for this partition.\u001b[39;00m\n",
      "\u001b[31mNoRegionError\u001b[39m: You must specify a region."
     ]
    }
   ],
   "source": [
    "def put_metric(name, value, unit=\"Count\"):\n",
    "    # cloudwatch = boto3.client(\"cloudwatch\")\n",
    "\n",
    "    session = boto3.Session(profile_name=os.getenv('AWS_PROFILE'), region_name=\"ap-south-1\")\n",
    "    cloudwatch = session.client('cloudwatch')\n",
    "\n",
    "    cloudwatch.put_metric_data(\n",
    "        Namespace=\"GenAI\",\n",
    "        MetricData=[{\n",
    "            \"MetricName\": name,\n",
    "            \"Value\": value,\n",
    "            \"Unit\": unit\n",
    "        }]\n",
    "    )\n",
    "\n",
    "put_metric('Data entries', 2)"
   ]
  }
 ],
 "metadata": {
  "kernelspec": {
   "display_name": "Python 3",
   "language": "python",
   "name": "python3"
  },
  "language_info": {
   "codemirror_mode": {
    "name": "ipython",
    "version": 3
   },
   "file_extension": ".py",
   "mimetype": "text/x-python",
   "name": "python",
   "nbconvert_exporter": "python",
   "pygments_lexer": "ipython3",
   "version": "3.11.13"
  }
 },
 "nbformat": 4,
 "nbformat_minor": 5
}
